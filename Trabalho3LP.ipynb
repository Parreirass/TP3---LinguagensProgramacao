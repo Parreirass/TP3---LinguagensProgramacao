{
  "nbformat": 4,
  "nbformat_minor": 0,
  "metadata": {
    "colab": {
      "provenance": []
    },
    "kernelspec": {
      "name": "python3",
      "display_name": "Python 3"
    },
    "language_info": {
      "name": "python"
    }
  },
  "cells": [
    {
      "cell_type": "code",
      "source": [
        "# Questão 1\n",
        "\n",
        "def potencia(base, expoente):\n",
        "    if expoente == 0:\n",
        "        return 1\n",
        "    else:\n",
        "        return base * potencia(base, expoente - 1)\n",
        "\n",
        "resultado = potencia(2, 5)\n",
        "print(resultado)"
      ],
      "metadata": {
        "colab": {
          "base_uri": "https://localhost:8080/"
        },
        "id": "9jTYY3Nm2Ryj",
        "outputId": "1ea3a4c9-dd5a-4d31-e8b6-7c68850ec78c"
      },
      "execution_count": null,
      "outputs": [
        {
          "output_type": "stream",
          "name": "stdout",
          "text": [
            "32\n"
          ]
        }
      ]
    },
    {
      "cell_type": "code",
      "source": [
        "# Questão 2\n",
        "\n",
        "def somaimpares(lista):\n",
        "    if not lista:\n",
        "        return 0\n",
        "    elif lista[0] % 2 != 0:\n",
        "        return lista[0] + somaimpares(lista[1:])\n",
        "    else:\n",
        "        return somaimpares(lista[1:])\n",
        "\n",
        "lista_exemplo = [1, 2, 3, 4, 5, 6, 7]\n",
        "resultado = somaimpares(lista_exemplo)\n",
        "print(resultado)"
      ],
      "metadata": {
        "colab": {
          "base_uri": "https://localhost:8080/"
        },
        "id": "2fVpo3SK2-C6",
        "outputId": "94bc9d8c-e9b9-4d38-f056-4b01b27837da"
      },
      "execution_count": null,
      "outputs": [
        {
          "output_type": "stream",
          "name": "stdout",
          "text": [
            "16\n"
          ]
        }
      ]
    },
    {
      "cell_type": "code",
      "source": [
        "# Questão 3\n",
        "\n",
        "def substituir(valor_antigo, valor_novo, lista):\n",
        "    if not lista:\n",
        "        return []\n",
        "    elif lista[0] == valor_antigo:\n",
        "        return [valor_novo] + substituir(valor_antigo, valor_novo, lista[1:])\n",
        "    else:\n",
        "        return [lista[0]] + substituir(valor_antigo, valor_novo, lista[1:])\n",
        "\n",
        "lista_exemplo = [1, 2, 1, 3, 1]\n",
        "valor_antigo = 1\n",
        "valor_novo = 0\n",
        "resultado = substituir(valor_antigo, valor_novo, lista_exemplo)\n",
        "print(resultado)"
      ],
      "metadata": {
        "colab": {
          "base_uri": "https://localhost:8080/"
        },
        "id": "kfJ0fhZ63f3J",
        "outputId": "c4f852c8-dba6-4354-c6a8-54775f7a67ba"
      },
      "execution_count": null,
      "outputs": [
        {
          "output_type": "stream",
          "name": "stdout",
          "text": [
            "[0, 2, 0, 3, 0]\n"
          ]
        }
      ]
    },
    {
      "cell_type": "code",
      "source": [
        "# Questão 4\n",
        "\n",
        "def e_primo(n, i=2):\n",
        "    if n <= 1:\n",
        "        return False\n",
        "    elif i == n:\n",
        "        return True\n",
        "    elif n % i == 0:\n",
        "        return False\n",
        "    else:\n",
        "        return e_primo(n, i + 1)\n",
        "\n",
        "def primo(numero):\n",
        "    return e_primo(numero)\n",
        "\n",
        "numero_exemplo = 13\n",
        "resultado = primo(numero_exemplo)\n",
        "print(resultado)"
      ],
      "metadata": {
        "colab": {
          "base_uri": "https://localhost:8080/"
        },
        "id": "1oWyTtvi4nWG",
        "outputId": "8a449f90-dcf5-4cdd-8c4e-fb0b363c03dd"
      },
      "execution_count": null,
      "outputs": [
        {
          "output_type": "stream",
          "name": "stdout",
          "text": [
            "True\n"
          ]
        }
      ]
    },
    {
      "cell_type": "code",
      "source": [
        "# Questão 5\n",
        "\n",
        "def binario(numero):\n",
        "    if numero == 0:\n",
        "        return []\n",
        "    else:\n",
        "        return binario(numero // 2) + [numero % 2]\n",
        "\n",
        "decimal = 10\n",
        "resultado = binario(decimal)\n",
        "print(resultado)\n"
      ],
      "metadata": {
        "colab": {
          "base_uri": "https://localhost:8080/"
        },
        "id": "xu374vud3m4A",
        "outputId": "8b32e64c-7528-4239-8b1e-6050e28f88aa"
      },
      "execution_count": null,
      "outputs": [
        {
          "output_type": "stream",
          "name": "stdout",
          "text": [
            "[1, 0, 1, 0]\n"
          ]
        }
      ]
    },
    {
      "cell_type": "code",
      "source": [
        "# Questão 6\n",
        "\n",
        "def soma_divisores(numero, divisor=1):\n",
        "    if divisor >= numero:\n",
        "        return 0\n",
        "    elif numero % divisor == 0:\n",
        "        return divisor + soma_divisores(numero, divisor + 1)\n",
        "    else:\n",
        "        return soma_divisores(numero, divisor + 1)\n",
        "\n",
        "def perfeito(numero):\n",
        "    return soma_divisores(numero) == numero\n",
        "\n",
        "numero_exemplo = 28\n",
        "resultado = perfeito(numero_exemplo)\n",
        "print(resultado)"
      ],
      "metadata": {
        "colab": {
          "base_uri": "https://localhost:8080/"
        },
        "id": "g3EMijlm7IQO",
        "outputId": "62dec81d-ba23-4615-eb5d-01b39f8c1e5f"
      },
      "execution_count": null,
      "outputs": [
        {
          "output_type": "stream",
          "name": "stdout",
          "text": [
            "True\n"
          ]
        }
      ]
    },
    {
      "cell_type": "code",
      "source": [
        "# Questão 7\n",
        "\n",
        "def distintos(lista):\n",
        "    if not lista:\n",
        "        return True\n",
        "    elif lista[0] in lista[1:]:\n",
        "        return False\n",
        "    else:\n",
        "        return distintos(lista[1:])\n",
        "\n",
        "lista_exemplo = [1, 2, 3, 2]\n",
        "resultado = distintos(lista_exemplo)\n",
        "print(resultado)"
      ],
      "metadata": {
        "colab": {
          "base_uri": "https://localhost:8080/"
        },
        "id": "WpsJDCCC7O7d",
        "outputId": "42250c97-080a-4e82-ce4f-54b871f8a6e1"
      },
      "execution_count": null,
      "outputs": [
        {
          "output_type": "stream",
          "name": "stdout",
          "text": [
            "False\n"
          ]
        }
      ]
    },
    {
      "cell_type": "code",
      "source": [
        "# Questão 8\n",
        "\n",
        "def disjuntas(lista1, lista2):\n",
        "    if not lista1 or not lista2:\n",
        "        return True\n",
        "    elif lista1[0] in lista2:\n",
        "        return False\n",
        "    else:\n",
        "        return disjuntas(lista1[1:], lista2)\n",
        "\n",
        "lista1 = [1, 2, 3]\n",
        "lista2 = [4, 5, 6]\n",
        "resultado = disjuntas(lista1, lista2)\n",
        "print(resultado)\n"
      ],
      "metadata": {
        "colab": {
          "base_uri": "https://localhost:8080/"
        },
        "id": "Xish3p4k7Qar",
        "outputId": "30ffcc2c-7d55-4609-9340-34f073f318e7"
      },
      "execution_count": null,
      "outputs": [
        {
          "output_type": "stream",
          "name": "stdout",
          "text": [
            "True\n"
          ]
        }
      ]
    },
    {
      "cell_type": "code",
      "source": [
        "# Questão 9\n",
        "\n",
        "def eh_palindromo(lista):\n",
        "    if len(lista) <= 1:\n",
        "        return True\n",
        "    elif lista[0] == lista[-1]:\n",
        "        return eh_palindromo(lista[1:-1])\n",
        "    else:\n",
        "        return False\n",
        "\n",
        "lista = [1, 2, 3, 4, 3, 2, 1]\n",
        "resultado = eh_palindromo(lista)\n",
        "print(resultado)\n"
      ],
      "metadata": {
        "colab": {
          "base_uri": "https://localhost:8080/"
        },
        "id": "gOQzVXKS7R8T",
        "outputId": "3c19eaf0-dceb-4bea-ad10-1be505aa974b"
      },
      "execution_count": null,
      "outputs": [
        {
          "output_type": "stream",
          "name": "stdout",
          "text": [
            "True\n"
          ]
        }
      ]
    },
    {
      "cell_type": "code",
      "source": [
        "# Questão 10\n",
        "\n",
        "def somaParciais(lista, resultado=0):\n",
        "    if not lista:\n",
        "        return []\n",
        "    else:\n",
        "        resultado += lista[0]\n",
        "        return [resultado] + somaParciais(lista[1:], resultado)\n",
        "\n",
        "lista = [1, 2, 3, 4]\n",
        "resultado = somaParciais(lista)\n",
        "print(resultado)"
      ],
      "metadata": {
        "colab": {
          "base_uri": "https://localhost:8080/"
        },
        "id": "Xb8hDNuj7T7A",
        "outputId": "60a05b1e-6a6b-46d0-9541-8fc95b0cc059"
      },
      "execution_count": null,
      "outputs": [
        {
          "output_type": "stream",
          "name": "stdout",
          "text": [
            "[1, 3, 6, 10]\n"
          ]
        }
      ]
    },
    {
      "cell_type": "code",
      "execution_count": null,
      "metadata": {
        "colab": {
          "base_uri": "https://localhost:8080/"
        },
        "id": "23CngFwBZGWX",
        "outputId": "424b7ef0-1ddc-4455-8bfa-a4d70edf5633"
      },
      "outputs": [
        {
          "output_type": "stream",
          "name": "stdout",
          "text": [
            "[1, 2, 3, 4, 5, 6, 7, 8, 9]\n"
          ]
        }
      ],
      "source": [
        "#Questão 11\n",
        "\n",
        "def linearizar(lista):\n",
        "    if not lista:\n",
        "        return []\n",
        "    return lista[0] + linearizar(lista[1:])\n",
        "\n",
        "lista_de_listas = [[1, 2, 3], [4, 5, 6], [7, 8, 9]]\n",
        "resultado = linearizar(lista_de_listas)\n",
        "print(resultado)\n",
        "\n"
      ]
    },
    {
      "cell_type": "code",
      "source": [
        "#Questão 12\n",
        "\n",
        "def deslocar_esquerda(lista, k):\n",
        "    if k == 0 or not lista:\n",
        "        return lista\n",
        "    return deslocar_esquerda(lista[1:] + [lista[0]], k - 1)\n",
        "\n",
        "lista_original = [1, 2, 3, 4, 5]\n",
        "k = 2\n",
        "resultado = deslocar_esquerda(lista_original, k)\n",
        "print(resultado)\n",
        "\n"
      ],
      "metadata": {
        "colab": {
          "base_uri": "https://localhost:8080/"
        },
        "id": "zcCJj6rIZ9mZ",
        "outputId": "b9e5d45c-de1a-452f-9e6c-3b87574b9a6c"
      },
      "execution_count": null,
      "outputs": [
        {
          "output_type": "stream",
          "name": "stdout",
          "text": [
            "[3, 4, 5, 1, 2]\n"
          ]
        }
      ]
    },
    {
      "cell_type": "code",
      "source": [
        "#Questão 13\n",
        "\n",
        "def remover_n_ultimos(lista, n):\n",
        "    if n <= 0:\n",
        "        return lista\n",
        "    elif not lista:\n",
        "        return []\n",
        "    else:\n",
        "        return remover_n_ultimos(lista[:-1], n - 1)\n",
        "\n",
        "lista_original = [1, 2, 3, 4, 5]\n",
        "n = 2\n",
        "resultado = remover_n_ultimos(lista_original, n)\n",
        "print(resultado)\n",
        "\n"
      ],
      "metadata": {
        "colab": {
          "base_uri": "https://localhost:8080/"
        },
        "id": "xSKK8YRoaegH",
        "outputId": "51995260-7173-47f4-8acb-e014b2f0feec"
      },
      "execution_count": null,
      "outputs": [
        {
          "output_type": "stream",
          "name": "stdout",
          "text": [
            "[1, 2, 3]\n"
          ]
        }
      ]
    },
    {
      "cell_type": "code",
      "source": [
        "#Questão 14\n",
        "\n",
        "def intercalar(lista1, lista2):\n",
        "    if not lista1:\n",
        "        return lista2\n",
        "    elif not lista2:\n",
        "        return lista1\n",
        "    elif lista1[0] < lista2[0]:\n",
        "        return [lista1[0]] + intercalar(lista1[1:], lista2)\n",
        "    else:\n",
        "        return [lista2[0]] + intercalar(lista1, lista2[1:])\n",
        "\n",
        "lista1 = [1, 3, 5, 7, 9]\n",
        "lista2 = [2, 4, 6, 8, 10]\n",
        "resultado = intercalar(lista1, lista2)\n",
        "print(resultado)\n"
      ],
      "metadata": {
        "colab": {
          "base_uri": "https://localhost:8080/"
        },
        "id": "mxEPRTAta1md",
        "outputId": "a4e6c552-c292-4638-b523-2ab0ee3a5677"
      },
      "execution_count": null,
      "outputs": [
        {
          "output_type": "stream",
          "name": "stdout",
          "text": [
            "[1, 2, 3, 4, 5, 6, 7, 8, 9, 10]\n"
          ]
        }
      ]
    },
    {
      "cell_type": "code",
      "source": [
        "#Questão 15\n",
        "\n",
        "def saque_eletronico(valor, notas=[100, 50, 10, 5, 1]):\n",
        "    if valor == 0:\n",
        "        return []\n",
        "    elif valor >= notas[0]:\n",
        "        qtd_cedulas = valor // notas[0]\n",
        "        return [notas[0]] * qtd_cedulas + saque_eletronico(valor % notas[0], notas[1:])\n",
        "    else:\n",
        "        return saque_eletronico(valor, notas[1:])\n",
        "\n",
        "valor_saque = 162\n",
        "resultado = saque_eletronico(valor_saque)[::-1]\n",
        "print(resultado)"
      ],
      "metadata": {
        "colab": {
          "base_uri": "https://localhost:8080/"
        },
        "id": "4bs0OHzLbsu2",
        "outputId": "6f5434b1-b269-46f1-bba2-71fdd663bc28"
      },
      "execution_count": null,
      "outputs": [
        {
          "output_type": "stream",
          "name": "stdout",
          "text": [
            "[1, 1, 10, 50, 100]\n"
          ]
        }
      ]
    }
  ]
}